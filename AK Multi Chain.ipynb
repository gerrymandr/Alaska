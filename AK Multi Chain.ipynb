{
 "cells": [
  {
   "cell_type": "code",
   "execution_count": null,
   "metadata": {},
   "outputs": [],
   "source": [
    "from gerrychain import Graph, Partition, Election\n",
    "from gerrychain.updaters import Tally, cut_edges\n",
    "import json\n",
    "import networkx\n",
    "from gerrychain import MarkovChain\n",
    "from gerrychain.constraints import single_flip_contiguous, no_more_discontiguous\n",
    "from gerrychain.proposals import propose_random_flip\n",
    "from gerrychain.accept import always_accept\n",
    "import pandas\n",
    "from gerrychain import (GeographicPartition, Partition, Graph, MarkovChain,\n",
    "                        proposals, updaters, constraints, accept, Election)\n",
    "from functools import partial\n",
    "from gerrychain.proposals import recom\n",
    " \n",
    "from gerrychain.constraints.validity import within_percent_of_ideal_population\n",
    "import matplotlib.pyplot as plt\n",
    "import gerrychain \n",
    "\n",
    "#NOTE: must have tqdm installed (pip install tqdm in terminal)"
   ]
  },
  {
   "cell_type": "code",
   "execution_count": null,
   "metadata": {
    "scrolled": true
   },
   "outputs": [],
   "source": [
    "#Use .json of graph \n",
    "\n",
    "#NOTE: An island warning will pop up.\n",
    "#graph = Graph.from_file(\"/Users/caranix/Documents/MGGG/AK_precincts/alaska_precincts.shp\")\n",
    "#print(\"graph done\")"
   ]
  },
  {
   "cell_type": "code",
   "execution_count": null,
   "metadata": {},
   "outputs": [],
   "source": [
    "graph = Graph.from_json(\"/Users/caranix/Documents/MGGG/ak_fix.json\")"
   ]
  },
  {
   "cell_type": "code",
   "execution_count": null,
   "metadata": {},
   "outputs": [],
   "source": [
    "def parts_adjacency_matrix(partition):\n",
    "    parts_graph = networkx.Graph()\n",
    "    for part in partition.parts:\n",
    "        parts_graph.add_node(part)\n",
    "    for edge in partition['cut_edges']:\n",
    "        source, destination = (partition.assignment[node] for node in edge)\n",
    "        parts_graph.add_edge(source, destination)\n",
    "    nodelist = sorted(list(partition.parts.keys()))\n",
    "    return networkx.to_numpy_matrix(parts_graph, nodelist=nodelist)\n"
   ]
  },
  {
   "cell_type": "code",
   "execution_count": null,
   "metadata": {},
   "outputs": [],
   "source": [
    "#election = gerrychain.Election(\"AK\", [\"PRES16\", \"USH14\", \"SEN16\",\"GOV18\",\"USH16\",\"USH18\"])"
   ]
  },
  {
   "cell_type": "code",
   "execution_count": 5,
   "metadata": {},
   "outputs": [],
   "source": [
    "elections = [\n",
    "    Election(\"PRES16\", {\"Democratic\": \"PRES16D\", \"Republican\": \"PRES16R\"}),\n",
    "    Election(\"USH14\", {\"Democratic\": \"USH14D\", \"Republican\": \"USH14R\"}),\n",
    "    Election(\"SEN16\", {\"Democratic\": \"SEN16D\", \"Republican\": \"SEN16R\"}),\n",
    "    Election(\"GOV18\", {\"Democratic\": \"GOV18D\", \"Republican\": \"GOV18R\"}),\n",
    "    Election(\"USH16\", {\"Democratic\": \"USH16D\", \"Republican\": \"USH16R\"}),\n",
    "    Election(\"USH18\", {\"Democratic\": \"USH18D\", \"Republican\": \"USH18R\"})\n",
    "]\n"
   ]
  },
  {
   "cell_type": "code",
   "execution_count": 6,
   "metadata": {},
   "outputs": [],
   "source": [
    "#updaters = {\"population\": gerrychain.updaters.Tally(\"POPULATION\", alias=\"population\"), \"AK\": election, \"cut_edges\": gerrychain.updaters.cut_edges}\n",
    "my_updaters = {\"population\": updaters.Tally(\"POPULATION\", alias=\"population\")}\n",
    "\n",
    "election_updaters = {election.name: election for election in elections}\n",
    "my_updaters.update(election_updaters)\n",
    "\n",
    "# Create an initial partition\n",
    "initial_partition = GeographicPartition(graph, assignment=\"HDIST\", updaters=my_updaters)#NOTE: assignment based on House Districts\n"
   ]
  },
  {
   "cell_type": "code",
   "execution_count": 7,
   "metadata": {},
   "outputs": [],
   "source": [
    "ideal_population = sum(initial_partition[\"population\"].values()) / len(initial_partition)\n",
    "\n",
    "proposal = partial(recom,\n",
    "                   pop_col=\"POPULATION\",\n",
    "                   pop_target=ideal_population,\n",
    "                   epsilon=0.05,\n",
    "                   node_repeats=2\n",
    "                  )"
   ]
  },
  {
   "cell_type": "code",
   "execution_count": 8,
   "metadata": {},
   "outputs": [],
   "source": [
    "compactness_bound = constraints.UpperBound(\n",
    "    lambda p: len(p[\"cut_edges\"]),\n",
    "    2*len(initial_partition[\"cut_edges\"])\n",
    ")"
   ]
  },
  {
   "cell_type": "code",
   "execution_count": null,
   "metadata": {},
   "outputs": [],
   "source": [
    "#THIS CHAIN IS  WORKING!! (but it isn't based on proposal, but propose_random_flip)\n",
    "\n",
    "\n",
    "#chain = gerrychain.MarkovChain(\n",
    "#    proposal=propose_random_flip,\n",
    "#    constraints=[constraints.within_percent_of_ideal_population(initial_partition, .03), no_more_discontiguous, compactness_bound],\n",
    "#    accept=always_accept,\n",
    "#    initial_state=initial_partition,\n",
    "#    total_steps=1000\n",
    "#)\n"
   ]
  },
  {
   "cell_type": "code",
   "execution_count": 9,
   "metadata": {},
   "outputs": [],
   "source": [
    "#THIS CHAIN does work! (thanks Daryl) \n",
    "\n",
    "chain = MarkovChain(\n",
    "    proposal=proposal, \n",
    "    constraints=[\n",
    "        constraints.within_percent_of_ideal_population(initial_partition, .05),\n",
    "        compactness_bound, no_more_discontiguous\n",
    "    ],\n",
    "    accept=accept.always_accept,\n",
    "    initial_state=initial_partition,\n",
    "    total_steps=1000\n",
    ")\n",
    "\n",
    "#NOTE: The current Alaksa plan does not have population within 2%, I increased it to 3% population deviation.\n",
    "\n",
    "#NOTE: Apparently, Alaska is not single flip contiguous? Islands might be the issue? \n",
    "#Changed to no_more_discontiguous, so it doesn't get any worse. \n"
   ]
  },
  {
   "cell_type": "code",
   "execution_count": 13,
   "metadata": {},
   "outputs": [],
   "source": [
    "chain_results = {\"PRES16\": [],\n",
    "                 \"USH14\": [],\n",
    "                 \"SEN16\": [],\n",
    "                 \"GOV18\": [],\n",
    "                 \"USH16\": [], \n",
    "                 \"USH18\": []}\n",
    "\n",
    "for partition in chain:\n",
    "    for key, _ in chain_results.items():\n",
    "        chain_results[key].append(sorted(partition[key].percents(\"Democratic\"))) \n"
   ]
  },
  {
   "cell_type": "code",
   "execution_count": 14,
   "metadata": {},
   "outputs": [],
   "source": [
    "chain_dfs = {\"PRES16\": [],\n",
    "             \"USH14\": [],\n",
    "             \"SEN16\": [],\n",
    "             \"SEN18\": [],\n",
    "             \"USH16\": [], \n",
    "             \"USH18\": []}\n",
    "\n",
    "for key, val in chain_results.items():\n",
    "    chain_dfs[key] = pandas.DataFrame(val)"
   ]
  },
  {
   "cell_type": "code",
   "execution_count": 12,
   "metadata": {},
   "outputs": [
    {
     "name": "stdout",
     "output_type": "stream",
     "text": [
      "100\n",
      "200\n",
      "300\n",
      "400\n",
      "500\n",
      "600\n",
      "700\n",
      "800\n",
      "900\n",
      "1000\n",
      "Successfully created AK_output1000.json\n"
     ]
    }
   ],
   "source": [
    "matrix = []\n",
    "allAssignments = {0: chain.state.assignment}\n",
    "for step in chain:\n",
    "        #allAssignments[chain.counter + 1] = [step.flips]\n",
    "        allAssignments[chain.counter] = step.assignment\n",
    "        if (chain.counter % 100 == 0):\n",
    "            print(chain.counter)\n",
    "            matrix.append((parts_adjacency_matrix(step).tolist()))\n",
    "with open('AK_output1000_test.json', \"w\") as m:\n",
    "    m.write(json.dumps(matrix))\n",
    "print(\"Successfully created AK_output1000.json\")\n"
   ]
  },
  {
   "cell_type": "code",
   "execution_count": null,
   "metadata": {},
   "outputs": [],
   "source": [
    "for i in range(1000):\n",
    "    with open(\"./Assignments/AK_House_\"+str(i)+\".json\",'w') as wf:\n",
    "        json.dump(dict(allAssignments[i]), wf)"
   ]
  },
  {
   "cell_type": "code",
   "execution_count": null,
   "metadata": {},
   "outputs": [],
   "source": [
    "#data = json.dumps(networkx.readwrite.json_graph.adjacency_data(graph))\n",
    "#It won't let me save graph due to a Polygon error- not a major issue for me atm \n",
    "#with open('/Users/caranix/Documents/alaska_graphAK_DATA.json') as f:\n",
    "#        data = json.load(f)\n",
    "#graph = networkx.readwrite.json_graph.adjacency_graph(data)\n",
    "#this is for when I can fix saving the grpah as a .json"
   ]
  },
  {
   "cell_type": "code",
   "execution_count": null,
   "metadata": {},
   "outputs": [],
   "source": [
    "#allAssignments[1]"
   ]
  },
  {
   "cell_type": "code",
   "execution_count": null,
   "metadata": {},
   "outputs": [],
   "source": [
    "#dict(step.assignment)\n"
   ]
  },
  {
   "cell_type": "code",
   "execution_count": null,
   "metadata": {},
   "outputs": [],
   "source": [
    "chain.counter\n"
   ]
  },
  {
   "cell_type": "code",
   "execution_count": null,
   "metadata": {},
   "outputs": [],
   "source": [
    "allAssignments"
   ]
  },
  {
   "cell_type": "code",
   "execution_count": null,
   "metadata": {},
   "outputs": [],
   "source": [
    "import geopandas as gpd"
   ]
  },
  {
   "cell_type": "code",
   "execution_count": null,
   "metadata": {},
   "outputs": [],
   "source": [
    "df = gpd.read_file(\"/Users/caranix/Documents/MGGG/AK_precincts/alaska_precincts.shp\")"
   ]
  },
  {
   "cell_type": "code",
   "execution_count": null,
   "metadata": {},
   "outputs": [],
   "source": [
    "for i in range(1000):\n",
    "    df[\"plan\"+str(i)] = df.index.map(dict(allAssignments[i]))"
   ]
  },
  {
   "cell_type": "code",
   "execution_count": null,
   "metadata": {},
   "outputs": [],
   "source": [
    "plt.figure()\n",
    "df.plot(column=\"plan200\", cmap = \"hsv\")\n",
    "plt.axis('off')\n"
   ]
  },
  {
   "cell_type": "code",
   "execution_count": null,
   "metadata": {},
   "outputs": [],
   "source": [
    "for i in range(1000):\n",
    "    plt.figure()\n",
    "    df.plot(column=\"plan\"+str(i), cmap = \"hsv\")\n",
    "    plt.axis('off')\n",
    "    plt.savefig(\"./Pictures/AK_plot_\"+str(i)+\".png\")  \n",
    "    plt.close()\n",
    "    \n",
    "    \n",
    "    "
   ]
  },
  {
   "cell_type": "code",
   "execution_count": null,
   "metadata": {},
   "outputs": [],
   "source": [
    "new_part = GeographicPartition(graph, assignment=df[\"plan11\"], updaters=my_updaters)#NOTE: assignment based on House Districts\n"
   ]
  },
  {
   "cell_type": "code",
   "execution_count": null,
   "metadata": {},
   "outputs": [],
   "source": [
    "chain_results = {\"PRES16\": [],\n",
    "                 \"USH14\": [],\n",
    "                 \"SEN16\": [],\n",
    "                 \"GOV18\": [],\n",
    "                 \"USH16\": [], \n",
    "                 \"USH18\": []}\n",
    "\n",
    "for key in chain_results.keys():\n",
    "    chain_results[key].append(sorted(new_part[key].percents(\"Democratic\"))) \n"
   ]
  },
  {
   "cell_type": "code",
   "execution_count": null,
   "metadata": {},
   "outputs": [],
   "source": []
  }
 ],
 "metadata": {
  "kernelspec": {
   "display_name": "Python 3",
   "language": "python",
   "name": "python3"
  },
  "language_info": {
   "codemirror_mode": {
    "name": "ipython",
    "version": 3
   },
   "file_extension": ".py",
   "mimetype": "text/x-python",
   "name": "python",
   "nbconvert_exporter": "python",
   "pygments_lexer": "ipython3",
   "version": "3.6.7"
  }
 },
 "nbformat": 4,
 "nbformat_minor": 2
}
